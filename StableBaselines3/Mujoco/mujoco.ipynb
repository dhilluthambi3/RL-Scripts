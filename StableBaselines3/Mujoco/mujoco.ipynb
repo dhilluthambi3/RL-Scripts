{
 "cells": [
  {
   "cell_type": "markdown",
   "metadata": {},
   "source": [
    "# Mujoco Agents with Stable Baselines3 and Gymnasium\n",
    "\n",
    "This Jupyter Notebook is dedicated to the exploration and understanding of running Mujoco agents using **Stable Baselines3** and **Gymnasium**.\n",
    "\n",
    "## Introduction\n",
    "\n",
    "- **Mujoco**: A physics engine that provides accurate and efficient simulation of robot dynamics.\n",
    "- **Stable Baselines3**: A set of high-quality implementations of reinforcement learning algorithms in Python, built on top of the PyTorch library.\n",
    "- **Gymnasium**: An open-source Python library for developing and comparing reinforcement learning algorithms.\n",
    "\n",
    "## Objective\n",
    "\n",
    "In this notebook, we will delve into the process of training and evaluating Mujoco agents using Stable Baselines3 and Gymnasium. The topics we will cover include:\n",
    "\n",
    "- Environment setup\n",
    "- Agent training\n",
    "- Hyperparameter tuning\n",
    "- Performance evaluation\n",
    "\n",
    "## Outcome\n",
    "\n",
    "By the end of this notebook, you will have a comprehensive understanding of how to use Stable Baselines3 and Gymnasium to develop and experiment with Mujoco agents.\n",
    "\n",
    "Let's get started!"
   ]
  },
  {
   "cell_type": "code",
   "execution_count": null,
   "metadata": {
    "vscode": {
     "languageId": "plaintext"
    }
   },
   "outputs": [],
   "source": [
    "# Install the necessary libraries\n",
    "\n",
    "!apt-get update -qq\n",
    "!apt-get install -y \\\n",
    "    libgl1-mesa-dev \\\n",
    "    libgl1-mesa-glx \\\n",
    "    libglew-dev \\\n",
    "    libosmesa6-dev \\\n",
    "    software-properties-common \\\n",
    "    patchelf \\\n",
    "    xvfb\n"
   ]
  },
  {
   "cell_type": "code",
   "execution_count": null,
   "metadata": {
    "vscode": {
     "languageId": "plaintext"
    }
   },
   "outputs": [],
   "source": [
    "#Intall the libraries\n",
    "\n",
    "!pip install gymnasium\n",
    "!pip install free-mujoco-py\n",
    "!pip install mujoco\n",
    "!pip install stable-baselines3"
   ]
  },
  {
   "cell_type": "code",
   "execution_count": null,
   "metadata": {
    "vscode": {
     "languageId": "plaintext"
    }
   },
   "outputs": [],
   "source": [
    "import gymnasium as gym\n",
    "import stable_baselines3 as sb3\n",
    "from stable_baselines3.common.env_util import make_vec_env\n",
    "from stable_baselines3.common.evaluation import evaluate_policy\n"
   ]
  },
  {
   "cell_type": "code",
   "execution_count": null,
   "metadata": {
    "vscode": {
     "languageId": "plaintext"
    }
   },
   "outputs": [],
   "source": [
    "env = gym.make('HalfCheetah-v3')\n",
    "print(env)"
   ]
  },
  {
   "cell_type": "code",
   "execution_count": null,
   "metadata": {
    "vscode": {
     "languageId": "plaintext"
    }
   },
   "outputs": [],
   "source": [
    "# Create the environment\n",
    "env = gym.make('HalfCheetah-v3')"
   ]
  },
  {
   "cell_type": "code",
   "execution_count": null,
   "metadata": {
    "vscode": {
     "languageId": "plaintext"
    }
   },
   "outputs": [],
   "source": [
    "# Instantiate the PPO agent\n",
    "model = sb3.PPO('MlpPolicy', env, verbose=1)\n",
    "\n",
    "# Train the agent\n",
    "total_timesteps = 1000000\n",
    "model.learn(total_timesteps=total_timesteps)\n",
    "\n",
    "# Save the trained model\n",
    "model.save(\"ppo_halfcheetah\")\n",
    "\n",
    "# Load the trained model\n",
    "try:\n",
    "    loaded_model = sb3.PPO.load(\"ppo_halfcheetah\", env=env)\n",
    "except FileNotFoundError:\n",
    "    print(\"Saved model not found.\")\n",
    "\n",
    "# Evaluate the trained agent\n",
    "eval_env = gym.make('HalfCheetah-v3')\n",
    "mean_reward, std_reward = evaluate_policy(loaded_model, eval_env, n_eval_episodes=10)\n",
    "print(f\"Mean reward: {mean_reward}, Std reward: {std_reward}\")\n",
    "\n",
    "eval_env.close()\n"
   ]
  },
  {
   "cell_type": "code",
   "execution_count": null,
   "metadata": {
    "vscode": {
     "languageId": "plaintext"
    }
   },
   "outputs": [],
   "source": [
    "#PPO agent with vectorised environment\n",
    "\n",
    "# Number of parallel environments\n",
    "n_envs = 4\n",
    "\n",
    "# Create and vectorize the environments\n",
    "env = make_vec_env('HalfCheetah-v3', n_envs=n_envs)\n",
    "\n",
    "# Instantiate the PPO agent\n",
    "model = sb3.PPO('MlpPolicy', env, verbose=1)\n",
    "\n",
    "# Train the agent\n",
    "total_timesteps = 1000000\n",
    "model.learn(total_timesteps=total_timesteps)\n",
    "\n",
    "# Save the trained model\n",
    "model.save(\"ppo_halfcheetah\")\n",
    "\n",
    "# Load the trained model\n",
    "try:\n",
    "    loaded_model = sb3.PPO.load(\"ppo_halfcheetah\", env=env)\n",
    "except FileNotFoundError:\n",
    "    print(\"Saved model not found.\")\n",
    "\n",
    "# Evaluate the trained agent\n",
    "# Note: For evaluation, use a single (non-vectorized) environment\n",
    "eval_env = gym.make('HalfCheetah-v3')\n",
    "mean_reward, std_reward = evaluate_policy(loaded_model, eval_env, n_eval_episodes=10)\n",
    "print(f\"Mean reward: {mean_reward}, Std reward: {std_reward}\")\n",
    "\n",
    "eval_env.close()\n"
   ]
  },
  {
   "cell_type": "code",
   "execution_count": null,
   "metadata": {
    "vscode": {
     "languageId": "plaintext"
    }
   },
   "outputs": [],
   "source": [
    "##SAC Agent with vectorised environment\n",
    "\n",
    "# Instantiate the SAC agent with the MlpPolicy\n",
    "model = sb3.SAC('MlpPolicy', env, verbose=1)\n",
    "\n",
    "# Train the agent\n",
    "total_timesteps = 1000000\n",
    "model.learn(total_timesteps=total_timesteps)\n",
    "\n",
    "# Save the trained model\n",
    "model.save(\"sac_halfcheetah\")\n",
    "\n",
    "# Load the trained model\n",
    "try:\n",
    "    loaded_model = sb3.SAC.load(\"sac_halfcheetah\", env=env)\n",
    "except FileNotFoundError:\n",
    "    print(\"Saved model not found.\")\n",
    "\n",
    "# Evaluate the trained agent\n",
    "# Note: For evaluation, use a single (non-vectorized) environment\n",
    "eval_env = gym.make('HalfCheetah-v3')\n",
    "mean_reward, std_reward = evaluate_policy(loaded_model, eval_env, n_eval_episodes=10)\n",
    "print(f\"Mean reward: {mean_reward}, Std reward: {std_reward}\")\n",
    "\n",
    "eval_env.close()"
   ]
  },
  {
   "cell_type": "code",
   "execution_count": null,
   "metadata": {
    "vscode": {
     "languageId": "plaintext"
    }
   },
   "outputs": [],
   "source": []
  }
 ],
 "metadata": {
  "language_info": {
   "name": "python"
  }
 },
 "nbformat": 4,
 "nbformat_minor": 2
}
